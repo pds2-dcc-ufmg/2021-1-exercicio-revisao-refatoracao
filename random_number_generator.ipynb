{
  "nbformat": 4,
  "nbformat_minor": 0,
  "metadata": {
    "colab": {
      "provenance": [],
      "authorship_tag": "ABX9TyM9JMlHRJq115Z5wPDqHlOH",
      "include_colab_link": true
    },
    "kernelspec": {
      "name": "python3",
      "display_name": "Python 3"
    },
    "language_info": {
      "name": "python"
    }
  },
  "cells": [
    {
      "cell_type": "markdown",
      "metadata": {
        "id": "view-in-github",
        "colab_type": "text"
      },
      "source": [
        "<a href=\"https://colab.research.google.com/github/raissamiranda/2021-1-exercicio-revisao-refatoracao/blob/main/random_number_generator.ipynb\" target=\"_parent\"><img src=\"https://colab.research.google.com/assets/colab-badge.svg\" alt=\"Open In Colab\"/></a>"
      ]
    },
    {
      "cell_type": "markdown",
      "source": [
        "# Gerador de números aleatórios"
      ],
      "metadata": {
        "id": "BiqAwoQ1eh_i"
      }
    },
    {
      "cell_type": "markdown",
      "source": [
        "## Linear Congruencional"
      ],
      "metadata": {
        "id": "HRzgz8uXem3u"
      }
    },
    {
      "cell_type": "markdown",
      "source": [
        "$$ X_{i+1} = a \\cdot X_{i} + c mod(m)$$"
      ],
      "metadata": {
        "id": "VwYlj_LnhONS"
      }
    },
    {
      "cell_type": "code",
      "execution_count": 10,
      "metadata": {
        "colab": {
          "base_uri": "https://localhost:8080/",
          "height": 338
        },
        "id": "TEw0aO4JeY9g",
        "outputId": "2c025e18-330b-4f96-ac0e-f5793898dcf9"
      },
      "outputs": [
        {
          "output_type": "execute_result",
          "data": {
            "text/plain": [
              "(array([14., 10.,  9.,  9.,  9.,  9.,  9.,  9.,  9., 13.]),\n",
              " array([  1. ,  13.4,  25.8,  38.2,  50.6,  63. ,  75.4,  87.8, 100.2,\n",
              "        112.6, 125. ]),\n",
              " <BarContainer object of 10 artists>)"
            ]
          },
          "metadata": {},
          "execution_count": 10
        },
        {
          "output_type": "display_data",
          "data": {
            "text/plain": [
              "<Figure size 432x288 with 1 Axes>"
            ],
            "image/png": "[encoded data removed]"
          },
          "metadata": {
            "needs_background": "light"
          }
        }
      ],
      "source": [
        "import matplotlib.pyplot as plt\n",
        "import numpy as np\n",
        "\n",
        "# Function to generate random numbers\n",
        "def linear_congruential(x0, m, a, c, size):\n",
        "    random_nums = []\n",
        "    xm = x0\n",
        "    random_nums.append(x0)\n",
        " \n",
        "    for i in range(1, size):\n",
        "        random_num = ((xm * a) + c) % m\n",
        "        random_nums.append(random_num)\n",
        "        xm = random_num\n",
        "\n",
        "    return random_nums\n",
        "\n",
        "random_nums = linear_congruential(1, 2**7, 5, 0, 100)\n",
        "\n",
        "plt.hist(random_nums, edgecolor = 'k') "
      ]
    },
    {
      "cell_type": "markdown",
      "source": [
        "## Mapa Logístico"
      ],
      "metadata": {
        "id": "_H62rRCKeqkb"
      }
    },
    {
      "cell_type": "code",
      "source": [
        "def logistic_map(x0, r, size):\n",
        "  random_nums = []\n",
        "  xm = x0\n",
        "  random_nums.append(x0)\n",
        "\n",
        "  for i in range(1,size):\n",
        "    random_num = r * xm * (1 - xm)\n",
        "    random_nums.append(random_num)\n",
        "    xm = random_num\n",
        "\n",
        "  return random_nums\n",
        "\n",
        "random_nums = logistic_map(0.46, 3.997, 100)\n",
        "plt.hist(random_nums, edgecolor = 'k')"
      ],
      "metadata": {
        "id": "99ZrbuQ_euWQ",
        "colab": {
          "base_uri": "https://localhost:8080/",
          "height": 356
        },
        "outputId": "0885ecda-3628-49e2-8c47-49194d80427a"
      },
      "execution_count": 11,
      "outputs": [
        {
          "output_type": "execute_result",
          "data": {
            "text/plain": [
              "(array([20., 13.,  6.,  5., 10.,  4.,  8.,  6.,  7., 21.]),\n",
              " array([0.00329321, 0.10288143, 0.20246965, 0.30205787, 0.40164609,\n",
              "        0.50123431, 0.60082252, 0.70041074, 0.79999896, 0.89958718,\n",
              "        0.9991754 ]),\n",
              " <BarContainer object of 10 artists>)"
            ]
          },
          "metadata": {},
          "execution_count": 11
        },
        {
          "output_type": "display_data",
          "data": {
            "text/plain": [
              "<Figure size 432x288 with 1 Axes>"
            ],
            "image/png": "[encoded data removed]"
          },
          "metadata": {
            "needs_background": "light"
          }
        }
      ]
    },
    {
      "cell_type": "markdown",
      "source": [
        "## PCG94"
      ],
      "metadata": {
        "id": "5Vk6qxIeeuhZ"
      }
    },
    {
      "cell_type": "code",
      "source": [
        "rng = np.random.default_rng(seed=42)\n",
        "r = rng.random(100000)\n",
        "plt.hist(r, edgecolor = 'k')"
      ],
      "metadata": {
        "id": "VQI-U7MFewis",
        "colab": {
          "base_uri": "https://localhost:8080/",
          "height": 375
        },
        "outputId": "6b9dd605-4875-42ee-e656-88f2868e18b5"
      },
      "execution_count": 15,
      "outputs": [
        {
          "output_type": "execute_result",
          "data": {
            "text/plain": [
              "(array([ 9916., 10007., 10012.,  9845.,  9963., 10101., 10125., 10112.,\n",
              "         9876., 10043.]),\n",
              " array([1.31685562e-05, 1.00011225e-01, 2.00009282e-01, 3.00007338e-01,\n",
              "        4.00005394e-01, 5.00003451e-01, 6.00001507e-01, 6.99999564e-01,\n",
              "        7.99997620e-01, 8.99995677e-01, 9.99993733e-01]),\n",
              " <BarContainer object of 10 artists>)"
            ]
          },
          "metadata": {},
          "execution_count": 15
        },
        {
          "output_type": "display_data",
          "data": {
            "text/plain": [
              "<Figure size 432x288 with 1 Axes>"
            ],
            "image/png": "[encoded data removed]"
          },
          "metadata": {
            "needs_background": "light"
          }
        }
      ]
    },
    {
      "cell_type": "code",
      "source": [
        "from statsmodels.graphics import tsaplots\n",
        "tsaplots.plot_acf(r, lags=200,fft=False,zero=False,title='Autocorrelação')"
      ],
      "metadata": {
        "colab": {
          "base_uri": "https://localhost:8080/",
          "height": 545
        },
        "id": "4JlxOGAvE9Zb",
        "outputId": "b1ed655b-9d97-4009-8fea-f31f1902a87c"
      },
      "execution_count": 16,
      "outputs": [
        {
          "output_type": "execute_result",
          "data": {
            "text/plain": [
              "<Figure size 432x288 with 1 Axes>"
            ],
            "image/png": "[encoded data removed]"
          },
          "metadata": {},
          "execution_count": 16
        },
        {
          "output_type": "display_data",
          "data": {
            "text/plain": [
              "<Figure size 432x288 with 1 Axes>"
            ],
            "image/png": "[encoded data removed]"
          },
          "metadata": {
            "needs_background": "light"
          }
        }
      ]
    },
    {
      "cell_type": "markdown",
      "source": [
        "##MT19932"
      ],
      "metadata": {
        "id": "4M2je3oMew8X"
      }
    },
    {
      "cell_type": "code",
      "source": [
        "sg = np.random.SeedSequence(1234)\n",
        "bg = np.random.MT19937(sg)\n",
        "rg = np.random.Generator(bg)\n",
        "r=rg.random(100000)\n",
        "plt.hist(r, edgecolor = 'k')\n"
      ],
      "metadata": {
        "id": "OF4UZhefez9_",
        "colab": {
          "base_uri": "https://localhost:8080/",
          "height": 375
        },
        "outputId": "4b2a11b1-e706-465b-8904-1f82221df4e8"
      },
      "execution_count": 18,
      "outputs": [
        {
          "output_type": "execute_result",
          "data": {
            "text/plain": [
              "(array([10145.,  9834., 10045.,  9864.,  9994., 10038.,  9957., 10140.,\n",
              "         9952., 10031.]),\n",
              " array([2.37510228e-06, 1.00000054e-01, 1.99997734e-01, 2.99995413e-01,\n",
              "        3.99993093e-01, 4.99990772e-01, 5.99988451e-01, 6.99986131e-01,\n",
              "        7.99983810e-01, 8.99981490e-01, 9.99979169e-01]),\n",
              " <BarContainer object of 10 artists>)"
            ]
          },
          "metadata": {},
          "execution_count": 18
        },
        {
          "output_type": "display_data",
          "data": {
            "text/plain": [
              "<Figure size 432x288 with 1 Axes>"
            ],
            "image/png": "[encoded data removed]"
          },
          "metadata": {
            "needs_background": "light"
          }
        }
      ]
    },
    {
      "cell_type": "code",
      "source": [
        "from statsmodels.graphics import tsaplots\n",
        "tsaplots.plot_acf(r, lags=200,fft=False,zero=False,title='Autocorrelação')"
      ],
      "metadata": {
        "colab": {
          "base_uri": "https://localhost:8080/",
          "height": 545
        },
        "id": "NLU6X6E3GW9a",
        "outputId": "ed2526d1-28f1-4d18-c644-9315f0099a43"
      },
      "execution_count": 19,
      "outputs": [
        {
          "output_type": "execute_result",
          "data": {
            "text/plain": [
              "<Figure size 432x288 with 1 Axes>"
            ],
            "image/png": "[encoded data removed]"
          },
          "metadata": {},
          "execution_count": 19
        },
        {
          "output_type": "display_data",
          "data": {
            "text/plain": [
              "<Figure size 432x288 with 1 Axes>"
            ],
            "image/png": "[encoded data removed]"
          },
          "metadata": {
            "needs_background": "light"
          }
        }
      ]
    },
    {
      "cell_type": "markdown",
      "source": [
        "## Anotações professor"
      ],
      "metadata": {
        "id": "YL7hzgHTgAvz"
      }
    },
    {
      "cell_type": "markdown",
      "source": [
        "### Características desejáveis para um bom gerador de números aleatórios\n",
        "\n",
        "\n",
        "*  números descorrelacionados\n",
        "*  distribuição uniforme\n",
        "*  período longo\n",
        "*  reprodutível (pode ser retomado de um dado ponto)\n",
        "\n",
        "obs: é sempre determinístico\n",
        "\n"
      ],
      "metadata": {
        "id": "IwgYnQdMgD4n"
      }
    }
  ]
}